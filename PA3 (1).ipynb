{
 "cells": [
  {
   "cell_type": "markdown",
   "metadata": {},
   "source": [
    "# Assingment 3  \n",
    "# Nick Komlanc\n",
    "# 1.0  \n",
    "# Fall 2020"
   ]
  },
  {
   "cell_type": "code",
   "execution_count": 1,
   "metadata": {},
   "outputs": [],
   "source": [
    "import math"
   ]
  },
  {
   "cell_type": "code",
   "execution_count": 21,
   "metadata": {},
   "outputs": [],
   "source": [
    "def Calc_Perimeter(a1=1,a2=1,a3=1):\n",
    "    Perimeter=a1+a2+a3\n",
    "    return Perimeter"
   ]
  },
  {
   "cell_type": "code",
   "execution_count": 29,
   "metadata": {},
   "outputs": [],
   "source": [
    "def Calc_Area(a1=1,a2=1,a3=1):\n",
    "    s=((a1+a2+a3)/2)\n",
    "    Area=math.sqrt(s*(s-a1)*(s-a2)*(s-a3))\n",
    "    return Area"
   ]
  },
  {
   "cell_type": "code",
   "execution_count": 31,
   "metadata": {},
   "outputs": [
    {
     "name": "stdout",
     "output_type": "stream",
     "text": [
      "Enter the length of side A: 5\n",
      "Enter the length of side B: 5\n",
      "Enter the length of side C: 5\n",
      "The area of the triangle is approximately 10.825317547305483\n",
      "The perimeter of the triangle is 15.0\n"
     ]
    }
   ],
   "source": [
    "a=float(input(\"Enter the length of side A: \"))\n",
    "b=float(input(\"Enter the length of side B: \"))\n",
    "c=float(input(\"Enter the length of side C: \"))\n",
    "area=Calc_Area(a,b,c)\n",
    "perimeter=Calc_Perimeter(a,b,c)\n",
    "print(\"The area of the triangle is approximately\", area)\n",
    "print(\"The perimeter of the triangle is\", perimeter)"
   ]
  },
  {
   "cell_type": "code",
   "execution_count": 123,
   "metadata": {},
   "outputs": [],
   "source": [
    "import random"
   ]
  },
  {
   "cell_type": "code",
   "execution_count": 138,
   "metadata": {},
   "outputs": [],
   "source": [
    "def evaluateGuess(randomNumber,guess):\n",
    "    if guess<randomNumber:\n",
    "        print(\"Too Low! Guess Again\")\n",
    "        guess=int(input(\"Enter your guess: \"))\n",
    "    elif guess>randomNumber:\n",
    "        print(\"Too High! Guess Again\")\n",
    "        guess=int(input(\"Enter your guess: \"))\n",
    "    return guess"
   ]
  },
  {
   "cell_type": "code",
   "execution_count": 148,
   "metadata": {},
   "outputs": [
    {
     "name": "stdout",
     "output_type": "stream",
     "text": [
      "Enter your guess: 400\n",
      "Too Low! Guess Again\n",
      "Enter your guess: 500\n",
      "Too Low! Guess Again\n",
      "Enter your guess: 700\n",
      "Too High! Guess Again\n",
      "Enter your guess: 600\n",
      "Too Low! Guess Again\n",
      "Enter your guess: 650\n",
      "Too High! Guess Again\n",
      "Enter your guess: 540\n",
      "Too Low! Guess Again\n",
      "Enter your guess: 645\n",
      "Too Low! Guess Again\n",
      "Enter your guess: 647\n",
      "Too Low! Guess Again\n",
      "Enter your guess: 648\n",
      "Correct\n"
     ]
    }
   ],
   "source": [
    "randomNumber= random.randrange(1,1001)\n",
    "guess=int(input(\"Enter your guess: \"))\n",
    "while randomNumber !=guess:\n",
    "    guess=evaluateGuess(randomNumber,guess)\n",
    "print(\"Correct\")"
   ]
  },
  {
   "cell_type": "code",
   "execution_count": 141,
   "metadata": {},
   "outputs": [],
   "source": [
    "def meanTemp(temps,days):\n",
    "    total=0\n",
    "    for i in temps:\n",
    "        total+=i\n",
    "    average=total/days\n",
    "    return average"
   ]
  },
  {
   "cell_type": "code",
   "execution_count": 147,
   "metadata": {},
   "outputs": [
    {
     "name": "stdout",
     "output_type": "stream",
     "text": [
      "The mean temperature over the past 5 days is 70.60 degrees fahrenheit\n"
     ]
    }
   ],
   "source": [
    "temps=[60,67,70,67,89]\n",
    "days=len(temps)\n",
    "mean=meanTemp(temps, days)\n",
    "print(\"The mean temperature over the past \"+str(days)+\" days is \"+str(format(mean,'.2f'))+\" degrees fahrenheit\")\n",
    "\n"
   ]
  }
 ],
 "metadata": {
  "kernelspec": {
   "display_name": "Python 3",
   "language": "python",
   "name": "python3"
  },
  "language_info": {
   "codemirror_mode": {
    "name": "ipython",
    "version": 3
   },
   "file_extension": ".py",
   "mimetype": "text/x-python",
   "name": "python",
   "nbconvert_exporter": "python",
   "pygments_lexer": "ipython3",
   "version": "3.8.3"
  }
 },
 "nbformat": 4,
 "nbformat_minor": 4
}
